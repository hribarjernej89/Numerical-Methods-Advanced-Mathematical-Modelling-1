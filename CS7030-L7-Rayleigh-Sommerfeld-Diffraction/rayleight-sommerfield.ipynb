{
 "cells": [
  {
   "cell_type": "code",
   "execution_count": 5,
   "metadata": {
    "collapsed": false
   },
   "outputs": [
    {
     "data": {
      "text/plain": [
       "'\\nWrite a SciPy program that uses Rayleight-Sommerfield diffraction formula to calculate a diffraction pattern at \\na distance \"far away\" from rectangular and circular aperatus.\\n\\nThe patern should look something like the Fourier transform of the aperture functions!\\n'"
      ]
     },
     "execution_count": 5,
     "metadata": {},
     "output_type": "execute_result"
    }
   ],
   "source": [
    "'''\n",
    "Write a SciPy program that uses Rayleight-Sommerfield diffraction formula to calculate a diffraction pattern at \n",
    "a distance \"far away\" from rectangular and circular aperatus.\n",
    "\n",
    "The patern should look something like the Fourier transform of the aperture functions!\n",
    "\n",
    "The main idea is to write discrete version of Rayleight-Sommerfield diffraction and then calculate for \n",
    "our functions!\n",
    "'''\n",
    "\n"
   ]
  },
  {
   "cell_type": "code",
   "execution_count": null,
   "metadata": {
    "collapsed": true
   },
   "outputs": [],
   "source": []
  }
 ],
 "metadata": {
  "anaconda-cloud": {},
  "kernelspec": {
   "display_name": "Python [default]",
   "language": "python",
   "name": "python3"
  },
  "language_info": {
   "codemirror_mode": {
    "name": "ipython",
    "version": 3
   },
   "file_extension": ".py",
   "mimetype": "text/x-python",
   "name": "python",
   "nbconvert_exporter": "python",
   "pygments_lexer": "ipython3",
   "version": "3.5.2"
  }
 },
 "nbformat": 4,
 "nbformat_minor": 0
}
