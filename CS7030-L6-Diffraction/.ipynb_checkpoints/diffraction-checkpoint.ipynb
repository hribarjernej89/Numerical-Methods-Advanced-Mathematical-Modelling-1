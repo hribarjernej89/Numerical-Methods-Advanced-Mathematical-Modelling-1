{
 "cells": [
  {
   "cell_type": "code",
   "execution_count": 4,
   "metadata": {
    "collapsed": false
   },
   "outputs": [
    {
     "data": {
      "image/png": "[encoded data removed]",
      "text/plain": [
       "<matplotlib.figure.Figure at 0x7fb4dc5d0e48>"
      ]
     },
     "metadata": {},
     "output_type": "display_data"
    },
    {
     "data": {
      "image/png": "[encoded data removed]",
      "text/plain": [
       "<matplotlib.figure.Figure at 0x7fb4dc4c3f60>"
      ]
     },
     "metadata": {},
     "output_type": "display_data"
    }
   ],
   "source": [
    "'''\n",
    "1. Look at the FDTD diffraction and interface simulation video at \n",
    "https://www.youtube.com/watch?v=6QLj8_f9QYg&spfreload=5\n",
    "\n",
    "2. Download, install and play with program yourself\n",
    "http://lnmaurer.github.io/Interference-Inference-Interface/\n",
    "\n",
    "The program is in lnmaurer-Interference-Inference-Interface folder. \n",
    "Run the script with python2 iii.py comand\n",
    "\n",
    "3. Use the Fourier transform approximation of Fraunhofer diffraction to simulate the \n",
    "diffraction patterns of some rectengular, circular, and other shaped apertures.\n",
    "\n",
    "[Rememeber to plot intensity which is the square of the magnitude of the complex amplitude G(x,y)]\n",
    "[Hint: to get started try 1/(λz) = 1, e.g. λ = 532 * x^-9 m and z = 1.879699 * 10^6 m. ]\n",
    "\n",
    "'''\n",
    "\"\"\"\n",
    "Following 1D diffraction theory, for a better understanding:\n",
    "http://kmdouglass.github.io/posts/approximating-diffraction-patterns-of-rectangular-apertures-with-the-fft.html\n",
    "\n",
    "I simulate slit diffraction with the FFT. Diffraction refers to various phenomena which occur \n",
    "when a wave encounters an obstacle or a slit. It is defined as the bending of light around the \n",
    "corners of an obstacle or aperture into the region of geometrical shadow of the obstacle. \n",
    "\n",
    "\n",
    "\"\"\"\n",
    "%matplotlib inline\n",
    "import numpy as np\n",
    "import pylab\n",
    "import matplotlib.pyplot as plt\n",
    "import math\n",
    "from scipy import misc\n",
    "from scipy.fftpack import fft\n",
    "from scipy.fftpack import fftshift, ifftshift\n",
    "\n",
    "amplitude    = 1     # Volt / sqrt(micron)\n",
    "slitWidth    = 5     # microns\n",
    "wavelength   = 0.532 # microns\n",
    "propDistance = 10000 # microns (= 10 mm)\n",
    "\n",
    "x     = np.linspace(-50, 50, num = 1024)\n",
    "field = np.zeros(x.size, dtype='complex128') # Ensure the field is complex\n",
    "field[np.logical_and(x > -slitWidth / 2, x <= slitWidth / 2)] = amplitude + 0j\n",
    "\n",
    "plt.title(\"Field\")\n",
    "plt.plot(x, np.abs(field), '.')\n",
    "plt.xlabel(r'x-position, $\\mu m$')\n",
    "plt.ylabel(r'Field amplitude, $V / \\sqrt{\\mu m}$')\n",
    "plt.xlim((-3, 3))\n",
    "plt.ylim((-0.5, 1.5))\n",
    "plt.grid(True)\n",
    "plt.show()\n",
    "\n",
    "\n",
    "dx = x[1] - x[0] # Spatial sampling period, microns\n",
    "fS = 1 / dx      # Spatial sampling frequency, units are inverse microns\n",
    "f  = (fS / x.size) * np.arange(0, x.size, step = 1) # inverse microns\n",
    "\n",
    "diffractedField = dx * fft(fftshift(field)) # The field must be rescaled by dx to get the correct units\n",
    "\n",
    "# Plot the field up to the Nyquist frequency, fS / 2\n",
    "plt.title(\"Diffracted field\")\n",
    "plt.plot(f[f <= fS / 2], np.abs(diffractedField[f <= fS / 2]), '.', linewidth = 2)\n",
    "plt.xlim((0, fS / 2))\n",
    "plt.xlabel(r'Spatial frequency, $\\mu m^{-1}$')\n",
    "plt.ylabel(r'Field amplitude, $V / \\sqrt{\\mu m}$')\n",
    "plt.grid(True)\n",
    "plt.show()\n",
    "\n",
    "\n"
   ]
  },
  {
   "cell_type": "code",
   "execution_count": 6,
   "metadata": {
    "collapsed": false
   },
   "outputs": [
    {
     "data": {
      "image/png": "[encoded data removed]",
      "text/plain": [
       "<matplotlib.figure.Figure at 0x7fb4dc5c8438>"
      ]
     },
     "metadata": {},
     "output_type": "display_data"
    }
   ],
   "source": [
    "#The code from LAB2 with Discrete FFT \n",
    "\n",
    "from scipy.fftpack import fft2, ifft2, fftshift, ifftshift, fftfreq\n",
    "# This is confusing but for some reason these methods are in NumPy only, not SciPy\n",
    "from numpy.fft import rfft2, irfft2, rfftfreq\n",
    "import matplotlib.cm as cm\n",
    "# Rectangle:\n",
    "start_time = -2\n",
    "stop_time = 2\n",
    "time_to_plot = 4 # seconds\n",
    "sample_rate = 50 # In Hz, the number of samples per second\n",
    "total_number_of_sample = sample_rate * time_to_plot #+ 1 #Odd numbers get you zero with linspace\n",
    "t = np.linspace(start_time, stop_time, total_number_of_sample) #Odd numbers get you zero with linspace\n",
    "\n",
    "# Graphing helper function\n",
    "def setup_graph(title='', x_label='', y_label='', fig_size=None):\n",
    "    fig = plt.figure()\n",
    "    if fig_size != None:\n",
    "        fig.set_size_inches(fig_size[0], fig_size[1])\n",
    "    ax = fig.add_subplot(111)\n",
    "    ax.set_title(title)\n",
    "    ax.set_xlabel(x_label)\n",
    "    ax.set_ylabel(y_label)\n",
    "\n",
    "rect = np.linspace(0,1,total_number_of_sample)\n",
    "for i in range(len(t)):\n",
    "    if((t[i] > -0.5) & (t[i] < 0.5)):\n",
    "        rect[i] = 1\n",
    "    elif((t[i] == 0.5) &(t[i] == -0.5)):\n",
    "        rect[i] = 0.5\n",
    "    else:\n",
    "        rect[i] = 0\n",
    "\n",
    "\n",
    "rect1 = np.asmatrix(rect)\n",
    "rect2D=np.dot(np.transpose(rect1),rect1)\n",
    "\n",
    "plt.matshow(rect2D, cmap=cm.Greys_r)\n",
    "plt.show()\n",
    "\n",
    "# Get the FT \n",
    "\n",
    "rect2Dft = fftshift(fft2(rect2D))\n",
    "\n",
    "ps_rect2Dft = np.abs(rect2Dft)**2\n",
    "\n",
    "\n",
    "#ps_rect2DftP = plt.figure()\n",
    "#axirect2DftP = ps_rect2DftP.add_subplot(1,1,1)\n",
    "#axirect2DftP.imshow(np.log(ps_rect2Dft), cmap=cm.Greys_r)"
   ]
  },
  {
   "cell_type": "code",
   "execution_count": null,
   "metadata": {
    "collapsed": false
   },
   "outputs": [],
   "source": [
    "from PIL import Image\n",
    "img = Image.open('./lenna.png')\n",
    "plt.title(\"Lenna original\")\n",
    "plt.imshow(img)\n",
    "plt.show() \n",
    "#We work with black and white version of the photo\n",
    "plt.title(\"Lenna black and white\")\n",
    "img_gray = Image.open('./lenna_bw.png')\n",
    "plt.imshow(img_gray, cmap=cm.Greys_r)\n",
    "plt.show() "
   ]
  },
  {
   "cell_type": "code",
   "execution_count": null,
   "metadata": {
    "collapsed": true
   },
   "outputs": [],
   "source": []
  }
 ],
 "metadata": {
  "anaconda-cloud": {},
  "kernelspec": {
   "display_name": "Python [conda root]",
   "language": "python",
   "name": "conda-root-py"
  },
  "language_info": {
   "codemirror_mode": {
    "name": "ipython",
    "version": 3
   },
   "file_extension": ".py",
   "mimetype": "text/x-python",
   "name": "python",
   "nbconvert_exporter": "python",
   "pygments_lexer": "ipython3",
   "version": "3.5.2"
  }
 },
 "nbformat": 4,
 "nbformat_minor": 0
}
